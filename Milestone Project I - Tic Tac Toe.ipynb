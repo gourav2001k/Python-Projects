{
 "cells": [
  {
   "cell_type": "markdown",
   "metadata": {},
   "source": [
    "# Milestone project I : Tic Tac Toe game "
   ]
  },
  {
   "cell_type": "code",
   "execution_count": null,
   "metadata": {},
   "outputs": [],
   "source": [
    "#Board layout\n",
    "b=\"     |     |                     |     |      \\n  {}  |  {}  |  {}               1  |  2  |  3  \\n_____|_____|_____           _____|_____|_____\\n     |     |                     |     |      \\n  {}  |  {}  |  {}               4  |  5  |  6  \\n_____|_____|_____           _____|_____|_____\\n     |     |                     |     |      \\n  {}  |  {}  |  {}               7  |  8  |  9  \\n     |     |                     |     |     \\n\"\n",
    "s={1:\" \",2:\" \",3:\" \",4:\" \",5:\" \",6:\" \",7:\" \",8:\" \",9:\" \"}"
   ]
  },
  {
   "cell_type": "code",
   "execution_count": null,
   "metadata": {},
   "outputs": [],
   "source": [
    "#Checks if the position is occupied or not, if occupied asks for new position else places the marker \n",
    "def space_check(b,s,p,m):\n",
    "    from IPython.display import clear_output\n",
    "    if s[p]==\" \":\n",
    "        placer(b,s,p,m)\n",
    "    else:\n",
    "        print(\"Already occupied. \\nTry any other position :\")\n",
    "        print(b.format(s[1],s[2],s[3],s[4],s[5],s[6],s[7],s[8],s[9]))\n",
    "        p=position()\n",
    "        clear_output()\n",
    "        space_check(b,s,p,m)  "
   ]
  },
  {
   "cell_type": "code",
   "execution_count": null,
   "metadata": {},
   "outputs": [],
   "source": [
    "#Function to place the marker at its asked position\n",
    "mark={0:\"X\",1:\"O\"}\n",
    "def placer(b,s,p,m):\n",
    "    s[p]=mark[m%2]\n",
    "        "
   ]
  },
  {
   "cell_type": "code",
   "execution_count": null,
   "metadata": {},
   "outputs": [],
   "source": [
    "#This function decides which player goes first \n",
    "def marker():\n",
    "    from IPython.display import clear_output\n",
    "    x=input(\"Player 1 press Y to play first or N to play second:\")\n",
    "    if x==\"Y\":\n",
    "        return 0\n",
    "    elif x==\"N\":\n",
    "        return 1\n",
    "    else:\n",
    "        clear_output()\n",
    "        print(\"Invalid input\")\n",
    "        return marker()"
   ]
  },
  {
   "cell_type": "code",
   "execution_count": null,
   "metadata": {},
   "outputs": [],
   "source": [
    "#This function check if any player has won or not\n",
    "def win_check(s):\n",
    "    if s[1]==s[2] and s[2]==s[3] and s[1]!=\" \":\n",
    "        print(\"Player with marker {} wins\".format(s[1]))\n",
    "        return \"\"\n",
    "    elif s[4]==s[5] and s[5]==s[6] and s[4]!=\" \":\n",
    "        print(\"Player with marker {} wins\".format(s[4]))\n",
    "        return \"\"\n",
    "    elif s[8]==s[7] and s[7]==s[9] and s[7]!=\" \":\n",
    "        print(\"Player with marker {} wins\".format(s[7]))\n",
    "        return \"\"\n",
    "    elif s[1]==s[4] and s[4]==s[7] and s[4]!=\" \":\n",
    "        print(\"Player with marker {} wins\".format(s[1]))\n",
    "        return \"\"\n",
    "    elif s[2]==s[5] and s[5]==s[8] and s[2]!=\" \":\n",
    "        print(\"Player with marker {} wins\".format(s[2]))\n",
    "        return \"\"\n",
    "    elif s[3]==s[9] and s[3]==s[6] and s[3]!=\" \":\n",
    "        print(\"Player with marker {} wins\".format(s[3]))\n",
    "        return \"\"\n",
    "    elif s[1]==s[5] and s[5]==s[9] and s[1]!=\" \":\n",
    "        print(\"Player with marker {} wins\".format(s[1]))\n",
    "        return \"\"\n",
    "    elif s[3]==s[5] and s[5]==s[7] and s[3]!=\" \":\n",
    "        print(\"Player with marker {} wins\".format(s[3]))\n",
    "        return \"\"\n",
    "    else:\n",
    "        return \"It is a tie\""
   ]
  },
  {
   "cell_type": "code",
   "execution_count": null,
   "metadata": {},
   "outputs": [],
   "source": [
    "def position():\n",
    "    t=int(input(\"Enter position you want to place your marker referring to template alongside: \\n\"))\n",
    "    if 1<=t<=9:\n",
    "        return t\n",
    "    else:\n",
    "        print(\"Not in range\")\n",
    "        return position()\n",
    "    "
   ]
  },
  {
   "cell_type": "code",
   "execution_count": null,
   "metadata": {},
   "outputs": [],
   "source": [
    "#This function execultes the Game which will be played\n",
    "from IPython.display import clear_output\n",
    "def Final_game():\n",
    "    print(\"Welcome to Tic Tac Toe game \\nSo players are you ready? \\nThe player who goes first plays with marker X \\nAll the Best...\")\n",
    "    b=\"     |     |                     |     |      \\n  {}  |  {}  |  {}               1  |  2  |  3  \\n_____|_____|_____           _____|_____|_____\\n     |     |                     |     |      \\n  {}  |  {}  |  {}               4  |  5  |  6  \\n_____|_____|_____           _____|_____|_____\\n     |     |                     |     |      \\n  {}  |  {}  |  {}               7  |  8  |  9  \\n     |     |                     |     |     \\n\"\n",
    "    s={1:\" \",2:\" \",3:\" \",4:\" \",5:\" \",6:\" \",7:\" \",8:\" \",9:\" \"}\n",
    "    mark={0:\"X\",1:\"O\"}\n",
    "    m=marker()\n",
    "    for i in range(9):\n",
    "        print(b.format(s[1],s[2],s[3],s[4],s[5],s[6],s[7],s[8],s[9]))\n",
    "        p=position()\n",
    "        clear_output()\n",
    "        space_check(b,s,p,m)\n",
    "        if win_check(s)==\"It is a tie\":\n",
    "            m+=1\n",
    "        else:\n",
    "            break\n",
    "    clear_output()\n",
    "    print(b.format(s[1],s[2],s[3],s[4],s[5],s[6],s[7],s[8],s[9]))\n",
    "    print(win_check(s))\n",
    "    if input(\"How about a new Game? \\nRespond with Y for another game: \\n\").upper()==\"Y\":\n",
    "        clear_output()\n",
    "        Final_game()\n",
    "    \n",
    "Final_game()\n",
    "    "
   ]
  },
  {
   "cell_type": "markdown",
   "metadata": {},
   "source": [
    "# The project ends here"
   ]
  },
  {
   "cell_type": "markdown",
   "metadata": {},
   "source": []
  }
 ],
 "metadata": {
  "kernelspec": {
   "display_name": "Python 3",
   "language": "python",
   "name": "python3"
  },
  "language_info": {
   "codemirror_mode": {
    "name": "ipython",
    "version": 3
   },
   "file_extension": ".py",
   "mimetype": "text/x-python",
   "name": "python",
   "nbconvert_exporter": "python",
   "pygments_lexer": "ipython3",
   "version": "3.7.3"
  }
 },
 "nbformat": 4,
 "nbformat_minor": 2
}
